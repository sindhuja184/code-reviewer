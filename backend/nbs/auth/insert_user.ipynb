{
 "cells": [
  {
   "cell_type": "code",
   "execution_count": 1,
   "id": "45f280f3",
   "metadata": {},
   "outputs": [
    {
     "name": "stdout",
     "output_type": "stream",
     "text": [
      "Collecting requests\n",
      "  Using cached requests-2.32.3-py3-none-any.whl.metadata (4.6 kB)\n",
      "Collecting charset-normalizer<4,>=2 (from requests)\n",
      "  Using cached charset_normalizer-3.4.2-cp310-cp310-win_amd64.whl.metadata (36 kB)\n",
      "Requirement already satisfied: idna<4,>=2.5 in c:\\users\\sindh\\onedrive\\desktop\\code_reviewer\\.venv\\lib\\site-packages (from requests) (3.10)\n",
      "Collecting urllib3<3,>=1.21.1 (from requests)\n",
      "  Using cached urllib3-2.4.0-py3-none-any.whl.metadata (6.5 kB)\n",
      "Collecting certifi>=2017.4.17 (from requests)\n",
      "  Using cached certifi-2025.4.26-py3-none-any.whl.metadata (2.5 kB)\n",
      "Using cached requests-2.32.3-py3-none-any.whl (64 kB)\n",
      "Using cached charset_normalizer-3.4.2-cp310-cp310-win_amd64.whl (105 kB)\n",
      "Using cached urllib3-2.4.0-py3-none-any.whl (128 kB)\n",
      "Using cached certifi-2025.4.26-py3-none-any.whl (159 kB)\n",
      "Installing collected packages: urllib3, charset-normalizer, certifi, requests\n",
      "\n",
      "   ---------------------------------------- 0/4 [urllib3]\n",
      "   ---------------------------------------- 0/4 [urllib3]\n",
      "   ---------------------------------------- 0/4 [urllib3]\n",
      "   ---------------------------------------- 0/4 [urllib3]\n",
      "   ---------------------------------------- 0/4 [urllib3]\n",
      "   ---------------------------------------- 0/4 [urllib3]\n",
      "   ---------- ----------------------------- 1/4 [charset-normalizer]\n",
      "   ---------- ----------------------------- 1/4 [charset-normalizer]\n",
      "   ---------- ----------------------------- 1/4 [charset-normalizer]\n",
      "   -------------------- ------------------- 2/4 [certifi]\n",
      "   ------------------------------ --------- 3/4 [requests]\n",
      "   ------------------------------ --------- 3/4 [requests]\n",
      "   ------------------------------ --------- 3/4 [requests]\n",
      "   ---------------------------------------- 4/4 [requests]\n",
      "\n",
      "Successfully installed certifi-2025.4.26 charset-normalizer-3.4.2 requests-2.32.3 urllib3-2.4.0\n"
     ]
    }
   ],
   "source": [
    "!pip install requests"
   ]
  },
  {
   "cell_type": "code",
   "execution_count": 1,
   "id": "f2822e77",
   "metadata": {},
   "outputs": [],
   "source": [
    "import requests"
   ]
  },
  {
   "cell_type": "code",
   "execution_count": 2,
   "id": "29c749f9",
   "metadata": {},
   "outputs": [],
   "source": [
    "endpoint = 'http://localhost:8000/api/v1/auth/signup'"
   ]
  },
  {
   "cell_type": "code",
   "execution_count": 9,
   "id": "33a6f1bc",
   "metadata": {},
   "outputs": [],
   "source": [
    "data = {\n",
    "    \"firstname\" : \"Sindhuja\",\n",
    "    \"lastname\" : \"Didugu\",\n",
    "    \"username\": \"didugu\",\n",
    "    \"email\": \"didugusindhuja@gmail.com\",\n",
    "    \"password\" : \"sindhuja\",\n",
    "}"
   ]
  },
  {
   "cell_type": "code",
   "execution_count": 10,
   "id": "5e82e472",
   "metadata": {},
   "outputs": [],
   "source": [
    "response = requests.post(endpoint, json= data)"
   ]
  },
  {
   "cell_type": "code",
   "execution_count": 11,
   "id": "ea1db905",
   "metadata": {},
   "outputs": [
    {
     "name": "stdout",
     "output_type": "stream",
     "text": [
      "{\"message\":\"Account Creaed!! Check email to verify your account\",\"user\":{\"uid\":\"8883d3a5-e3be-410b-8977-f1576124c4a3\",\"firstname\":\"Sindhuja\",\"is_verified\":false,\"created_at\":\"2025-05-21T16:13:04.396576\",\"username\":\"didugu\",\"email\":\"didugusindhuja@gmail.com\",\"lastname\":\"Didugu\",\"updated_at\":\"2025-05-21T16:13:04.396576\"}}\n"
     ]
    }
   ],
   "source": [
    "print(response.text)"
   ]
  },
  {
   "cell_type": "code",
   "execution_count": null,
   "id": "8ebb6259",
   "metadata": {},
   "outputs": [],
   "source": []
  }
 ],
 "metadata": {
  "kernelspec": {
   "display_name": ".venv",
   "language": "python",
   "name": "python3"
  },
  "language_info": {
   "codemirror_mode": {
    "name": "ipython",
    "version": 3
   },
   "file_extension": ".py",
   "mimetype": "text/x-python",
   "name": "python",
   "nbconvert_exporter": "python",
   "pygments_lexer": "ipython3",
   "version": "3.10.0"
  }
 },
 "nbformat": 4,
 "nbformat_minor": 5
}
