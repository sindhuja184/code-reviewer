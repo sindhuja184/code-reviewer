{
 "cells": [
  {
   "cell_type": "code",
   "execution_count": 1,
   "id": "e1da6764",
   "metadata": {},
   "outputs": [],
   "source": [
    "import requests"
   ]
  },
  {
   "cell_type": "code",
   "execution_count": 2,
   "id": "4d02a2aa",
   "metadata": {},
   "outputs": [],
   "source": [
    "endpoint = 'http://localhost:8000/api/v1/auth/password-reset-request'\n"
   ]
  },
  {
   "cell_type": "code",
   "execution_count": 8,
   "id": "cf3e28de",
   "metadata": {},
   "outputs": [],
   "source": [
    "data = {\n",
    "    \"email\": \"didugusindhuja@gmail.com\",\n",
    "}\n",
    "response = requests.post(endpoint, json=data)"
   ]
  },
  {
   "cell_type": "code",
   "execution_count": 9,
   "id": "98f981cc",
   "metadata": {},
   "outputs": [
    {
     "name": "stdout",
     "output_type": "stream",
     "text": [
      "{\"message\":\"Please check your inbox to reset yur password\"}\n"
     ]
    }
   ],
   "source": [
    "print(response.text)"
   ]
  },
  {
   "cell_type": "code",
   "execution_count": 14,
   "id": "175a2b32",
   "metadata": {},
   "outputs": [],
   "source": [
    "reset_link = 'http://localhost:8000/api/v1/auth/password-reset-confirm/eyJlbWFpbCI6ImRpZHVndXNpbmRodWphQGdtYWlsLmNvbSJ9.aCycfg.OzXaEbdf6Rl8dnqvmLEQ6VOS6kY'"
   ]
  },
  {
   "cell_type": "code",
   "execution_count": 15,
   "id": "99f49b7e",
   "metadata": {},
   "outputs": [],
   "source": [
    "pas = {\n",
    "    \"new_password\": \"didugu\",\n",
    "    \"confirm_password\": \"didugu\"\n",
    "}"
   ]
  },
  {
   "cell_type": "code",
   "execution_count": 18,
   "id": "ff824da5",
   "metadata": {},
   "outputs": [],
   "source": [
    "response = requests.post(reset_link, json= pas)"
   ]
  },
  {
   "cell_type": "code",
   "execution_count": 19,
   "id": "5b679f79",
   "metadata": {},
   "outputs": [
    {
     "name": "stdout",
     "output_type": "stream",
     "text": [
      "{\"message\":\"Password changed successfully\"}\n"
     ]
    }
   ],
   "source": [
    "print(response.text)"
   ]
  },
  {
   "cell_type": "code",
   "execution_count": null,
   "id": "307ed6dd",
   "metadata": {},
   "outputs": [],
   "source": []
  }
 ],
 "metadata": {
  "kernelspec": {
   "display_name": ".venv",
   "language": "python",
   "name": "python3"
  },
  "language_info": {
   "codemirror_mode": {
    "name": "ipython",
    "version": 3
   },
   "file_extension": ".py",
   "mimetype": "text/x-python",
   "name": "python",
   "nbconvert_exporter": "python",
   "pygments_lexer": "ipython3",
   "version": "3.10.0"
  }
 },
 "nbformat": 4,
 "nbformat_minor": 5
}
