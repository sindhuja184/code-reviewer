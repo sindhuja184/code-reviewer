{
 "cells": [
  {
   "cell_type": "code",
   "execution_count": 8,
   "id": "30de9cba",
   "metadata": {},
   "outputs": [],
   "source": [
    "from dotenv import load_dotenv\n",
    "import os \n",
    "load_dotenv()\n",
    "from langchain_groq import ChatGroq\n",
    "from langchain_core.prompts import PromptTemplate\n",
    "\n",
    "groq_api_key = os.getenv(\"GROQ_API_KEY\")\n",
    "\n",
    "\n",
    "llm = ChatGroq(\n",
    "    groq_api_key = groq_api_key,\n",
    "    model_name = 'llama3-8b-8192'\n",
    ")\n",
    "\n",
    "template = '''\n",
    "You are an expert in programming languages and a very talented \n",
    "Data Structures and Algorithms problem solver. Also, you are a \n",
    "great CODE REVIEWER\n",
    "\n",
    "Analyse the following {language} code provide\n",
    "1. A short review summary.\n",
    "2. List all the issues or bugs\n",
    "3. Provide suggestions for improvements\n",
    "\n",
    "Code:\n",
    "{code}\n",
    "\n",
    "Give the review in the specified format\n",
    "'''\n",
    "\n",
    "prompt = PromptTemplate(\n",
    "        input_variables= [\"code\", \"language\"],\n",
    "        template= template\n",
    "    )\n",
    "\n",
    "chain = prompt | llm\n",
    "\n",
    "def generate_response(code, language):\n",
    "\n",
    "    response = chain.invoke(\n",
    "        {\n",
    "            \"code\": code,\n",
    "            \"language\": language\n",
    "        }\n",
    "    )\n",
    "\n",
    "    return response.content\n"
   ]
  },
  {
   "cell_type": "code",
   "execution_count": 9,
   "id": "8d989a84",
   "metadata": {},
   "outputs": [],
   "source": [
    "code = \"print('Hello World')\""
   ]
  },
  {
   "cell_type": "code",
   "execution_count": 10,
   "id": "cef41300",
   "metadata": {},
   "outputs": [],
   "source": [
    "res = generate_response(code, 'python')"
   ]
  },
  {
   "cell_type": "code",
   "execution_count": 11,
   "id": "906c1d1b",
   "metadata": {},
   "outputs": [
    {
     "data": {
      "text/plain": [
       "'Here is the review of the code:\\n\\n**Review Summary:**\\n\\nThe code is very simple and prints \"Hello World\" to the console. It is a good start, but lacks any meaningful functionality or complexity.\\n\\n**Issues or Bugs:**\\n\\n1. Lack of meaningful code: The code is very short and does not demonstrate any specific programming concept or problem-solving skill.\\n2. No error handling: The code does not handle any potential errors that may occur during execution. This is a good practice to implement in real-world applications.\\n3. No documentation: The code does not have any comments or documentation, making it difficult for others to understand the purpose and functionality of the code.\\n\\n**Suggestions for Improvements:**\\n\\n1. Add a meaningful function: Consider adding a function that takes a name as an input and returns a personalized greeting. This would demonstrate a programming concept and add functionality to the code.\\n2. Implement error handling: Consider adding try-except blocks to handle potential errors that may occur during execution. This would make the code more robust and reliable.\\n3. Add documentation: Consider adding comments or docstrings to explain the purpose and functionality of the code. This would make it easier for others to understand and maintain the code.\\n4. Consider using a more meaningful output: Instead of just printing \"Hello World\", consider printing a personalized greeting or a message that provides more value to the user.\\n\\nHere is an updated version of the code that incorporates some of these suggestions:\\n```\\ndef greeting(name):\\n    try:\\n        print(f\"Hello, {name}!\")\\n    except Exception as e:\\n        print(f\"Error: {e}\")\\n\\ngreeting(\"John\")\\n```\\nThis updated code defines a function `greeting` that takes a name as an input and returns a personalized greeting. It also implements error handling using try-except blocks.'"
      ]
     },
     "execution_count": 11,
     "metadata": {},
     "output_type": "execute_result"
    }
   ],
   "source": [
    "res"
   ]
  },
  {
   "cell_type": "code",
   "execution_count": null,
   "id": "1d7e8e1e",
   "metadata": {},
   "outputs": [],
   "source": []
  }
 ],
 "metadata": {
  "kernelspec": {
   "display_name": ".venv",
   "language": "python",
   "name": "python3"
  },
  "language_info": {
   "codemirror_mode": {
    "name": "ipython",
    "version": 3
   },
   "file_extension": ".py",
   "mimetype": "text/x-python",
   "name": "python",
   "nbconvert_exporter": "python",
   "pygments_lexer": "ipython3",
   "version": "3.10.0"
  }
 },
 "nbformat": 4,
 "nbformat_minor": 5
}
